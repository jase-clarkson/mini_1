{
 "cells": [
  {
   "cell_type": "code",
   "execution_count": 3,
   "metadata": {},
   "outputs": [],
   "source": [
    "import numpy as np\n",
    "import pandas as pd\n",
    "import matplotlib.pyplot as plt\n",
    "from sklearn.decomposition import PCA\n",
    "import sklearn.linear_model as lm\n",
    "import src.random_matrix as rm\n",
    "import statsmodels.api as sm\n",
    "\n",
    "PATH = '/home/clarkson/data/us_eq/cache'"
   ]
  },
  {
   "cell_type": "code",
   "execution_count": 4,
   "metadata": {},
   "outputs": [],
   "source": [
    "df = pd.read_pickle('{}/log_returns_cleaned.pkl'.format(PATH))"
   ]
  },
  {
   "cell_type": "code",
   "execution_count": 47,
   "metadata": {},
   "outputs": [],
   "source": [
    "def estimate_residuals(factors, returns):\n",
    "    \"\"\"\n",
    "    :param factors: factors matrix of size kxn\n",
    "    :param returns: stock returns of size nxp\n",
    "    \"\"\"\n",
    "    fr = pd.DataFrame(np.matmul(factors.T, returns.values), columns=returns.columns.values)\n",
    "    # Fit OLS to get betas\n",
    "    return np.sum()\n",
    "\n",
    "def fit_lrs(y, X):\n",
    "    return lm.LinearRegression(fit_intercept=False).fit(X, y)\n",
    "\n",
    "def compute_factor_return(factor, stock_returns, stdevs):\n",
    "    return factor.dot(stock_returns.values / stdevs)"
   ]
  },
  {
   "cell_type": "code",
   "execution_count": 54,
   "metadata": {},
   "outputs": [
    {
     "name": "stderr",
     "output_type": "stream",
     "text": [
      "/home/clarkson/Projects/mini_1/venv/lib/python3.7/site-packages/ipykernel_launcher.py:3: SettingWithCopyWarning: \n",
      "A value is trying to be set on a copy of a slice from a DataFrame\n",
      "\n",
      "See the caveats in the documentation: http://pandas.pydata.org/pandas-docs/stable/user_guide/indexing.html#returning-a-view-versus-a-copy\n",
      "  This is separate from the ipykernel package so we can avoid doing imports until\n",
      "/home/clarkson/Projects/mini_1/venv/lib/python3.7/site-packages/ipykernel_launcher.py:4: SettingWithCopyWarning: \n",
      "A value is trying to be set on a copy of a slice from a DataFrame\n",
      "\n",
      "See the caveats in the documentation: http://pandas.pydata.org/pandas-docs/stable/user_guide/indexing.html#returning-a-view-versus-a-copy\n",
      "  after removing the cwd from sys.path.\n"
     ]
    }
   ],
   "source": [
    "# df.rolling(60).apply(estimate_residual)\n",
    "def clean_NAs(data, perc=95):\n",
    "    data.dropna(thresh=len(data.index)*(perc/100.0), axis=1, inplace=True)\n",
    "    data.dropna(thresh=len(data.columns), axis=0, inplace=True)\n",
    "\n",
    "data = df.iloc[:60]\n",
    "clean_NAs(data)\n",
    "train_data = data.iloc[:48]\n",
    "test_data = data.iloc[48:60]"
   ]
  },
  {
   "cell_type": "code",
   "execution_count": 58,
   "metadata": {},
   "outputs": [
    {
     "ename": "IndentationError",
     "evalue": "expected an indented block (<ipython-input-58-10f21de4f850>, line 9)",
     "output_type": "error",
     "traceback": [
      "\u001b[0;36m  File \u001b[0;32m\"<ipython-input-58-10f21de4f850>\"\u001b[0;36m, line \u001b[0;32m9\u001b[0m\n\u001b[0;31m    fr = np.dot(train_data.values, f)\u001b[0m\n\u001b[0m     ^\u001b[0m\n\u001b[0;31mIndentationError\u001b[0m\u001b[0;31m:\u001b[0m expected an indented block\n"
     ]
    }
   ],
   "source": [
    "def estimate_factors_pct_var(data):\n",
    "    pca = PCA(n_components=0.75, svd_solver='full')\n",
    "    pca.fit(train_data.values.T)\n",
    "    return pca.transform(train_data.values.T)\n",
    "\n",
    "f = estimate_factors_pct_var(train_data)\n",
    "\n",
    "def estimate_betas(data, factors):\n",
    "    fr = np.dot(data.values, f)\n",
    "fr.shape\n",
    "# fr['AA'].name\n",
    "models = train_data.apply(lambda x: fit_lrs(train_data[x.name], fr))\n",
    "test_fr = np.dot(test_data.values, f)\n",
    "resid = test_data.apply(lambda x: x - models[x.name].predict(test_fr))\n",
    "# fr.shape\n",
    "# print(estimate_betas(test_data['AA']))\n",
    "# print(test_data.iloc[-1])"
   ]
  },
  {
   "cell_type": "code",
   "execution_count": 49,
   "metadata": {},
   "outputs": [
    {
     "data": {
      "text/plain": [
       "ticker\n",
       "AA      LinearRegression(copy_X=True, fit_intercept=Fa...\n",
       "AABA    LinearRegression(copy_X=True, fit_intercept=Fa...\n",
       "AAON    LinearRegression(copy_X=True, fit_intercept=Fa...\n",
       "AAPL    LinearRegression(copy_X=True, fit_intercept=Fa...\n",
       "ABC     LinearRegression(copy_X=True, fit_intercept=Fa...\n",
       "                              ...                        \n",
       "ZBRA    LinearRegression(copy_X=True, fit_intercept=Fa...\n",
       "ZEUS    LinearRegression(copy_X=True, fit_intercept=Fa...\n",
       "ZION    LinearRegression(copy_X=True, fit_intercept=Fa...\n",
       "ZIXI    LinearRegression(copy_X=True, fit_intercept=Fa...\n",
       "PKG     LinearRegression(copy_X=True, fit_intercept=Fa...\n",
       "Length: 1024, dtype: object"
      ]
     },
     "execution_count": 49,
     "metadata": {},
     "output_type": "execute_result"
    }
   ],
   "source": [
    "models"
   ]
  },
  {
   "cell_type": "code",
   "execution_count": 44,
   "metadata": {},
   "outputs": [
    {
     "name": "stdout",
     "output_type": "stream",
     "text": [
      "[1. 1. 1. 1. 1. 1. 1. 1. 1. 1.]\n",
      "[7 9 8 3 8 7 9 4 4 0]\n"
     ]
    },
    {
     "name": "stderr",
     "output_type": "stream",
     "text": [
      "/homes/clarkson/PycharmProjects/mini_1/venv/lib/python3.7/site-packages/ipykernel_launcher.py:5: RuntimeWarning: divide by zero encountered in true_divide\n",
      "  \"\"\"\n"
     ]
    },
    {
     "data": {
      "text/plain": [
       "array([0.14285714, 0.11111111, 0.125     , 0.33333333, 0.125     ,\n",
       "       0.14285714, 0.11111111, 0.25      , 0.25      ,        inf])"
      ]
     },
     "execution_count": 44,
     "metadata": {},
     "output_type": "execute_result"
    }
   ],
   "source": [
    "x = np.ones(10)\n",
    "print(x)\n",
    "y = np.random.randint(10, size=10)\n",
    "print(y)\n",
    "x / y"
   ]
  }
 ],
 "metadata": {
  "kernelspec": {
   "display_name": "Python 3",
   "language": "python",
   "name": "python3"
  },
  "language_info": {
   "codemirror_mode": {
    "name": "ipython",
    "version": 3
   },
   "file_extension": ".py",
   "mimetype": "text/x-python",
   "name": "python",
   "nbconvert_exporter": "python",
   "pygments_lexer": "ipython3",
   "version": "3.7.3"
  }
 },
 "nbformat": 4,
 "nbformat_minor": 4
}
