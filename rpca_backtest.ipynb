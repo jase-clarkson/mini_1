{
 "cells": [
  {
   "cell_type": "code",
   "execution_count": 1,
   "metadata": {},
   "outputs": [],
   "source": [
    "import numpy as np\n",
    "import pandas as pd\n",
    "import matplotlib.pyplot as plt\n",
    "plt.rc('font', family='serif')\n",
    "from importlib import reload\n",
    "\n",
    "import src.dr.rpca\n",
    "reload(src.dr.rpca)\n",
    "from src.dr.rpca import Rpca\n",
    "from src.strats.starb_fm import StArbFm\n",
    "from src.backtest import backtest\n",
    "PATH = '/data/hawfinch/clarkson/data/us_eq/cache/'"
   ]
  },
  {
   "cell_type": "code",
   "execution_count": 2,
   "metadata": {},
   "outputs": [],
   "source": [
    "df = pd.read_pickle('{}/top_500_excess_returns.pkl'.format(PATH))\n",
    "spy = pd.read_pickle('{}/spy_lr.pkl'.format(PATH))"
   ]
  },
  {
   "cell_type": "code",
   "execution_count": null,
   "metadata": {},
   "outputs": [
    {
     "name": "stdout",
     "output_type": "stream",
     "text": [
      "Registered RPca_252\n"
     ]
    }
   ],
   "source": [
    "strats = [StArbFm(Rpca(), cal_freq=5, window_len=252),]\n",
    "backtest(df, strats, benchmark=spy, it=500)"
   ]
  }
 ],
 "metadata": {
  "kernelspec": {
   "display_name": "Python 3",
   "language": "python",
   "name": "python3"
  },
  "language_info": {
   "codemirror_mode": {
    "name": "ipython",
    "version": 3
   },
   "file_extension": ".py",
   "mimetype": "text/x-python",
   "name": "python",
   "nbconvert_exporter": "python",
   "pygments_lexer": "ipython3",
   "version": "3.7.6"
  }
 },
 "nbformat": 4,
 "nbformat_minor": 4
}
